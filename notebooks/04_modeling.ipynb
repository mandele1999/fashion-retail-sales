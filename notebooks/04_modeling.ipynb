{
 "cells": [
  {
   "cell_type": "markdown",
   "id": "1acddcd7",
   "metadata": {},
   "source": [
    "# Modeling – Fashion Retail Sales Analysis\n",
    "\n",
    "Welcome to the modeling phase of the Fashion Retail Sales Analysis project.  \n",
    "In this notebook, we build and evaluate machine learning models based on the features engineered in the previous step. Our primary modeling objectives are:\n",
    "\n",
    "1. **Purchase Amount Prediction (Regression)**  \n",
    "   - Goal: Predict how much a customer is likely to spend on a transaction using historical purchase patterns and customer attributes.\n",
    "   - Use Case: Revenue forecasting, targeted discounting strategies.\n",
    "\n",
    "2. **High-Value Transaction Classification (Binary Classification)**  \n",
    "   - Goal: Identify whether a transaction is considered \"high value\" based on the top 10% of purchase amounts.\n",
    "   - Use Case: Flagging premium customer transactions, focused marketing.\n",
    "\n",
    "We will train baseline models for both tasks using a Random Forest approach and evaluate their performance. These models can later be improved through hyperparameter tuning or replaced with more advanced techniques.\n",
    "\n",
    "Let's dive in!"
   ]
  },
  {
   "cell_type": "code",
   "execution_count": 21,
   "id": "c13907c8",
   "metadata": {},
   "outputs": [],
   "source": [
    "# Import dependencies\n",
    "import pandas as pd\n",
    "import numpy as np\n",
    "import matplotlib.pyplot as plt\n",
    "import seaborn as sns\n",
    "\n",
    "from sklearn.model_selection import train_test_split, cross_val_score\n",
    "from sklearn.preprocessing import StandardScaler\n",
    "from sklearn.metrics import mean_squared_error, r2_score, classification_report, confusion_matrix\n",
    "from sklearn.ensemble import RandomForestRegressor, RandomForestClassifier\n",
    "from sklearn.linear_model import LogisticRegression, LinearRegression\n",
    "\n",
    "sns.set(style=\"whitegrid\")\n",
    "plt.style.use('ggplot')\n",
    "import warnings\n",
    "warnings.filterwarnings(\"ignore\")"
   ]
  },
  {
   "cell_type": "code",
   "execution_count": 7,
   "id": "d6eb24de",
   "metadata": {},
   "outputs": [
    {
     "name": "stdout",
     "output_type": "stream",
     "text": [
      "Data loaded successfully.\n",
      "Main DataFrame shape: (3400, 15)\n",
      "Customer Aggregate shape: (166, 6)\n"
     ]
    }
   ],
   "source": [
    "# Load Feature Engineered Data\n",
    "df = pd.read_parquet(\"../data/processed/retail_feature_engineered.parquet\")\n",
    "customer_agg = pd.read_parquet(\"../data/processed/customer_features.parquet\")\n",
    "\n",
    "print(\"Data loaded successfully.\")\n",
    "print(\"Main DataFrame shape:\", df.shape)\n",
    "print(\"Customer Aggregate shape:\", customer_agg.shape)"
   ]
  },
  {
   "cell_type": "code",
   "execution_count": 11,
   "id": "332a4802",
   "metadata": {},
   "outputs": [],
   "source": [
    "# 3. Define Targets\n",
    "# Regression: Predict purchase amount\n",
    "# Classification: Predict high-value transaction\n",
    "\n",
    "# --- Regression Setup ---\n",
    "regression_features = ['month', 'weekday', 'is_q4', 'payment_encoded', 'item_encoded', 'avg_spend', 'purchase_frequency']\n",
    "X_reg = df[regression_features]\n",
    "y_reg = df['purchase_amount_(usd)']\n",
    "\n",
    "# --- Classification Setup ---\n",
    "classification_features = regression_features.copy()\n",
    "X_clf = df[classification_features]\n",
    "y_clf = df['high_value_transaction']"
   ]
  },
  {
   "cell_type": "code",
   "execution_count": 13,
   "id": "eebadd0b",
   "metadata": {},
   "outputs": [],
   "source": [
    "# 4. Train-Test Split\n",
    "X_train_reg, X_test_reg, y_train_reg, y_test_reg = train_test_split(X_reg, y_reg, test_size=0.2, random_state=42)\n",
    "X_train_clf, X_test_clf, y_train_clf, y_test_clf = train_test_split(X_clf, y_clf, test_size=0.2, random_state=42)\n",
    "\n",
    "# 5. Feature Scaling (for regression)\n",
    "scaler = StandardScaler()\n",
    "X_train_reg_scaled = scaler.fit_transform(X_train_reg)\n",
    "X_test_reg_scaled = scaler.transform(X_test_reg)"
   ]
  },
  {
   "cell_type": "code",
   "execution_count": 24,
   "id": "cab225c0",
   "metadata": {},
   "outputs": [
    {
     "name": "stdout",
     "output_type": "stream",
     "text": [
      "\n",
      "Training LinearRegression...\n",
      "\n",
      "Regression Results:\n",
      "RMSE: 392.8490029905585\n",
      "R² Score: 0.05188600844521907\n"
     ]
    }
   ],
   "source": [
    "# 6. Modeling – Regression\n",
    "print(\"\\nTraining LinearRegression...\")\n",
    "reg_model = LinearRegression()\n",
    "reg_model.fit(X_train_reg_scaled, y_train_reg)\n",
    "\n",
    "y_pred_reg = reg_model.predict(X_test_reg_scaled)\n",
    "\n",
    "print(\"\\nRegression Results:\")\n",
    "print(\"RMSE:\", np.sqrt(mean_squared_error(y_test_reg, y_pred_reg)))\n",
    "print(\"R² Score:\", r2_score(y_test_reg, y_pred_reg))"
   ]
  },
  {
   "cell_type": "markdown",
   "id": "fa9d242d",
   "metadata": {},
   "source": [
    "On average, predictions deviate from the actual purchase amount by about **$393** _(RMSE: ~393)_. Depending on the scale of purchase amounts in the dataset, this could be large and unaacceptable.\n",
    "\n",
    "R² Score: ~0.052 - The model isn't doing a great job capturing the underlying patterns in the data. Our model is only explaining ~5.2% of the variance in the target variable, which is quite low. "
   ]
  },
  {
   "cell_type": "code",
   "execution_count": 25,
   "id": "a4904f0f",
   "metadata": {},
   "outputs": [
    {
     "name": "stdout",
     "output_type": "stream",
     "text": [
      "\n",
      "Training LogisticRegression...\n",
      "\n",
      "Classification Report:\n",
      "              precision    recall  f1-score   support\n",
      "\n",
      "       False       0.90      1.00      0.95       615\n",
      "        True       0.00      0.00      0.00        65\n",
      "\n",
      "    accuracy                           0.90       680\n",
      "   macro avg       0.45      0.50      0.47       680\n",
      "weighted avg       0.82      0.90      0.86       680\n",
      "\n"
     ]
    },
    {
     "data": {
      "image/png": "[encoded data removed]",
      "text/plain": [
       "<Figure size 640x480 with 2 Axes>"
      ]
     },
     "metadata": {},
     "output_type": "display_data"
    }
   ],
   "source": [
    "# 7. Modeling – Classification\n",
    "print(\"\\nTraining LogisticRegression...\")\n",
    "clf_model = LogisticRegression()\n",
    "clf_model.fit(X_train_clf, y_train_clf)\n",
    "\n",
    "y_pred_clf = clf_model.predict(X_test_clf)\n",
    "\n",
    "print(\"\\nClassification Report:\")\n",
    "print(classification_report(y_test_clf, y_pred_clf))\n",
    "\n",
    "# 8. Confusion Matrix\n",
    "conf_matrix = confusion_matrix(y_test_clf, y_pred_clf)\n",
    "sns.heatmap(conf_matrix, annot=True, fmt='d', cmap='Blues')\n",
    "plt.title(\"Confusion Matrix\")\n",
    "plt.xlabel(\"Predicted\")\n",
    "plt.ylabel(\"Actual\")\n",
    "plt.show()"
   ]
  }
 ],
 "metadata": {
  "kernelspec": {
   "display_name": "learn-env",
   "language": "python",
   "name": "python3"
  },
  "language_info": {
   "codemirror_mode": {
    "name": "ipython",
    "version": 3
   },
   "file_extension": ".py",
   "mimetype": "text/x-python",
   "name": "python",
   "nbconvert_exporter": "python",
   "pygments_lexer": "ipython3",
   "version": "3.8.5"
  }
 },
 "nbformat": 4,
 "nbformat_minor": 5
}
