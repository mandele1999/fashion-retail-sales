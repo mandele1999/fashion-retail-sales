{
 "cells": [
  {
   "cell_type": "code",
   "execution_count": 2,
   "id": "ab8f6b1a",
   "metadata": {},
   "outputs": [],
   "source": [
    "# Load dependencies\n",
    "import pandas as pd\n",
    "import numpy as np\n",
    "import matplotlib.pyplot as plt\n",
    "import seaborn as sns\n",
    "\n",
    "# Set plot styles\n",
    "sns.set(style=\"whitegrid\")\n",
    "pd.set_option(\"display.max_columns\", None)"
   ]
  },
  {
   "cell_type": "code",
   "execution_count": null,
   "id": "45938598",
   "metadata": {},
   "outputs": [
    {
     "data": {
      "application/vnd.microsoft.datawrangler.viewer.v0+json": {
       "columns": [
        {
         "name": "index",
         "rawType": "int64",
         "type": "integer"
        },
        {
         "name": "Customer Reference ID",
         "rawType": "int64",
         "type": "integer"
        },
        {
         "name": "Item Purchased",
         "rawType": "object",
         "type": "string"
        },
        {
         "name": "Purchase Amount (USD)",
         "rawType": "float64",
         "type": "float"
        },
        {
         "name": "Date Purchase",
         "rawType": "object",
         "type": "string"
        },
        {
         "name": "Review Rating",
         "rawType": "float64",
         "type": "float"
        },
        {
         "name": "Payment Method",
         "rawType": "object",
         "type": "string"
        }
       ],
       "conversionMethod": "pd.DataFrame",
       "ref": "12d8303e-4d01-4f85-bfb4-9485d0fd9580",
       "rows": [
        [
         "0",
         "4018",
         "Handbag",
         "4619.0",
         "05-02-2023",
         null,
         "Credit Card"
        ],
        [
         "1",
         "4115",
         "Tunic",
         "2456.0",
         "11-07-2023",
         "2.0",
         "Credit Card"
        ],
        [
         "2",
         "4019",
         "Tank Top",
         "2102.0",
         "23-03-2023",
         "4.1",
         "Cash"
        ],
        [
         "3",
         "4097",
         "Leggings",
         "3126.0",
         "15-03-2023",
         "3.2",
         "Cash"
        ],
        [
         "4",
         "3997",
         "Wallet",
         "3003.0",
         "27-11-2022",
         "4.7",
         "Cash"
        ]
       ],
       "shape": {
        "columns": 6,
        "rows": 5
       }
      },
      "text/html": [
       "<div>\n",
       "<style scoped>\n",
       "    .dataframe tbody tr th:only-of-type {\n",
       "        vertical-align: middle;\n",
       "    }\n",
       "\n",
       "    .dataframe tbody tr th {\n",
       "        vertical-align: top;\n",
       "    }\n",
       "\n",
       "    .dataframe thead th {\n",
       "        text-align: right;\n",
       "    }\n",
       "</style>\n",
       "<table border=\"1\" class=\"dataframe\">\n",
       "  <thead>\n",
       "    <tr style=\"text-align: right;\">\n",
       "      <th></th>\n",
       "      <th>Customer Reference ID</th>\n",
       "      <th>Item Purchased</th>\n",
       "      <th>Purchase Amount (USD)</th>\n",
       "      <th>Date Purchase</th>\n",
       "      <th>Review Rating</th>\n",
       "      <th>Payment Method</th>\n",
       "    </tr>\n",
       "  </thead>\n",
       "  <tbody>\n",
       "    <tr>\n",
       "      <th>0</th>\n",
       "      <td>4018</td>\n",
       "      <td>Handbag</td>\n",
       "      <td>4619.0</td>\n",
       "      <td>05-02-2023</td>\n",
       "      <td>NaN</td>\n",
       "      <td>Credit Card</td>\n",
       "    </tr>\n",
       "    <tr>\n",
       "      <th>1</th>\n",
       "      <td>4115</td>\n",
       "      <td>Tunic</td>\n",
       "      <td>2456.0</td>\n",
       "      <td>11-07-2023</td>\n",
       "      <td>2.0</td>\n",
       "      <td>Credit Card</td>\n",
       "    </tr>\n",
       "    <tr>\n",
       "      <th>2</th>\n",
       "      <td>4019</td>\n",
       "      <td>Tank Top</td>\n",
       "      <td>2102.0</td>\n",
       "      <td>23-03-2023</td>\n",
       "      <td>4.1</td>\n",
       "      <td>Cash</td>\n",
       "    </tr>\n",
       "    <tr>\n",
       "      <th>3</th>\n",
       "      <td>4097</td>\n",
       "      <td>Leggings</td>\n",
       "      <td>3126.0</td>\n",
       "      <td>15-03-2023</td>\n",
       "      <td>3.2</td>\n",
       "      <td>Cash</td>\n",
       "    </tr>\n",
       "    <tr>\n",
       "      <th>4</th>\n",
       "      <td>3997</td>\n",
       "      <td>Wallet</td>\n",
       "      <td>3003.0</td>\n",
       "      <td>27-11-2022</td>\n",
       "      <td>4.7</td>\n",
       "      <td>Cash</td>\n",
       "    </tr>\n",
       "  </tbody>\n",
       "</table>\n",
       "</div>"
      ],
      "text/plain": [
       "   Customer Reference ID Item Purchased  Purchase Amount (USD) Date Purchase  \\\n",
       "0                   4018        Handbag                 4619.0    05-02-2023   \n",
       "1                   4115          Tunic                 2456.0    11-07-2023   \n",
       "2                   4019       Tank Top                 2102.0    23-03-2023   \n",
       "3                   4097       Leggings                 3126.0    15-03-2023   \n",
       "4                   3997         Wallet                 3003.0    27-11-2022   \n",
       "\n",
       "   Review Rating Payment Method  \n",
       "0            NaN    Credit Card  \n",
       "1            2.0    Credit Card  \n",
       "2            4.1           Cash  \n",
       "3            3.2           Cash  \n",
       "4            4.7           Cash  "
      ]
     },
     "execution_count": 3,
     "metadata": {},
     "output_type": "execute_result"
    }
   ],
   "source": [
    "# 1. Load Raw Data\n",
    "df = pd.read_csv(\"../data/raw/fashion_retail_sales.csv\")\n",
    "df.head()"
   ]
  },
  {
   "cell_type": "code",
   "execution_count": 4,
   "id": "c9b9dba4",
   "metadata": {},
   "outputs": [
    {
     "name": "stdout",
     "output_type": "stream",
     "text": [
      "<class 'pandas.core.frame.DataFrame'>\n",
      "RangeIndex: 3400 entries, 0 to 3399\n",
      "Data columns (total 6 columns):\n",
      " #   Column                 Non-Null Count  Dtype  \n",
      "---  ------                 --------------  -----  \n",
      " 0   Customer Reference ID  3400 non-null   int64  \n",
      " 1   Item Purchased         3400 non-null   object \n",
      " 2   Purchase Amount (USD)  2750 non-null   float64\n",
      " 3   Date Purchase          3400 non-null   object \n",
      " 4   Review Rating          3076 non-null   float64\n",
      " 5   Payment Method         3400 non-null   object \n",
      "dtypes: float64(2), int64(1), object(3)\n",
      "memory usage: 159.5+ KB\n"
     ]
    }
   ],
   "source": [
    "# 2. Check Initial Info and Missing Values\n",
    "df.info()"
   ]
  },
  {
   "cell_type": "code",
   "execution_count": 5,
   "id": "1310e56e",
   "metadata": {},
   "outputs": [
    {
     "data": {
      "text/plain": [
       "Purchase Amount (USD)    650\n",
       "Review Rating            324\n",
       "Customer Reference ID      0\n",
       "Item Purchased             0\n",
       "Date Purchase              0\n",
       "Payment Method             0\n",
       "dtype: int64"
      ]
     },
     "execution_count": 5,
     "metadata": {},
     "output_type": "execute_result"
    }
   ],
   "source": [
    "# Check for Missing Values\n",
    "df.isnull().sum().sort_values(ascending=False)"
   ]
  },
  {
   "cell_type": "code",
   "execution_count": 6,
   "id": "39aa1f76",
   "metadata": {},
   "outputs": [
    {
     "data": {
      "application/vnd.microsoft.datawrangler.viewer.v0+json": {
       "columns": [
        {
         "name": "index",
         "rawType": "object",
         "type": "string"
        },
        {
         "name": "Customer Reference ID",
         "rawType": "float64",
         "type": "float"
        },
        {
         "name": "Item Purchased",
         "rawType": "object",
         "type": "string"
        },
        {
         "name": "Purchase Amount (USD)",
         "rawType": "float64",
         "type": "float"
        },
        {
         "name": "Date Purchase",
         "rawType": "object",
         "type": "string"
        },
        {
         "name": "Review Rating",
         "rawType": "float64",
         "type": "float"
        },
        {
         "name": "Payment Method",
         "rawType": "object",
         "type": "string"
        }
       ],
       "conversionMethod": "pd.DataFrame",
       "ref": "7d7ea78a-d541-43b3-9750-f420f84c6066",
       "rows": [
        [
         "count",
         "3400.0",
         "3400",
         "2750.0",
         "3400",
         "3076.0",
         "3400"
        ],
        [
         "unique",
         null,
         "50",
         null,
         "365",
         null,
         "2"
        ],
        [
         "top",
         null,
         "Belt",
         null,
         "22-09-2023",
         null,
         "Credit Card"
        ],
        [
         "freq",
         null,
         "90",
         null,
         "17",
         null,
         "1770"
        ],
        [
         "mean",
         "4039.660588235294",
         null,
         "156.70981818181818",
         null,
         "2.9990572171651495",
         null
        ],
        [
         "std",
         "48.12258275608316",
         null,
         "419.5366688715006",
         null,
         "1.1565054266748576",
         null
        ],
        [
         "min",
         "3957.0",
         null,
         "10.0",
         null,
         "1.0",
         null
        ],
        [
         "25%",
         "3997.0",
         null,
         "57.0",
         null,
         "2.0",
         null
        ],
        [
         "50%",
         "4040.0",
         null,
         "110.0",
         null,
         "3.0",
         null
        ],
        [
         "75%",
         "4081.0",
         null,
         "155.75",
         null,
         "4.0",
         null
        ],
        [
         "max",
         "4122.0",
         null,
         "4932.0",
         null,
         "5.0",
         null
        ]
       ],
       "shape": {
        "columns": 6,
        "rows": 11
       }
      },
      "text/html": [
       "<div>\n",
       "<style scoped>\n",
       "    .dataframe tbody tr th:only-of-type {\n",
       "        vertical-align: middle;\n",
       "    }\n",
       "\n",
       "    .dataframe tbody tr th {\n",
       "        vertical-align: top;\n",
       "    }\n",
       "\n",
       "    .dataframe thead th {\n",
       "        text-align: right;\n",
       "    }\n",
       "</style>\n",
       "<table border=\"1\" class=\"dataframe\">\n",
       "  <thead>\n",
       "    <tr style=\"text-align: right;\">\n",
       "      <th></th>\n",
       "      <th>Customer Reference ID</th>\n",
       "      <th>Item Purchased</th>\n",
       "      <th>Purchase Amount (USD)</th>\n",
       "      <th>Date Purchase</th>\n",
       "      <th>Review Rating</th>\n",
       "      <th>Payment Method</th>\n",
       "    </tr>\n",
       "  </thead>\n",
       "  <tbody>\n",
       "    <tr>\n",
       "      <th>count</th>\n",
       "      <td>3400.000000</td>\n",
       "      <td>3400</td>\n",
       "      <td>2750.000000</td>\n",
       "      <td>3400</td>\n",
       "      <td>3076.000000</td>\n",
       "      <td>3400</td>\n",
       "    </tr>\n",
       "    <tr>\n",
       "      <th>unique</th>\n",
       "      <td>NaN</td>\n",
       "      <td>50</td>\n",
       "      <td>NaN</td>\n",
       "      <td>365</td>\n",
       "      <td>NaN</td>\n",
       "      <td>2</td>\n",
       "    </tr>\n",
       "    <tr>\n",
       "      <th>top</th>\n",
       "      <td>NaN</td>\n",
       "      <td>Belt</td>\n",
       "      <td>NaN</td>\n",
       "      <td>22-09-2023</td>\n",
       "      <td>NaN</td>\n",
       "      <td>Credit Card</td>\n",
       "    </tr>\n",
       "    <tr>\n",
       "      <th>freq</th>\n",
       "      <td>NaN</td>\n",
       "      <td>90</td>\n",
       "      <td>NaN</td>\n",
       "      <td>17</td>\n",
       "      <td>NaN</td>\n",
       "      <td>1770</td>\n",
       "    </tr>\n",
       "    <tr>\n",
       "      <th>mean</th>\n",
       "      <td>4039.660588</td>\n",
       "      <td>NaN</td>\n",
       "      <td>156.709818</td>\n",
       "      <td>NaN</td>\n",
       "      <td>2.999057</td>\n",
       "      <td>NaN</td>\n",
       "    </tr>\n",
       "    <tr>\n",
       "      <th>std</th>\n",
       "      <td>48.122583</td>\n",
       "      <td>NaN</td>\n",
       "      <td>419.536669</td>\n",
       "      <td>NaN</td>\n",
       "      <td>1.156505</td>\n",
       "      <td>NaN</td>\n",
       "    </tr>\n",
       "    <tr>\n",
       "      <th>min</th>\n",
       "      <td>3957.000000</td>\n",
       "      <td>NaN</td>\n",
       "      <td>10.000000</td>\n",
       "      <td>NaN</td>\n",
       "      <td>1.000000</td>\n",
       "      <td>NaN</td>\n",
       "    </tr>\n",
       "    <tr>\n",
       "      <th>25%</th>\n",
       "      <td>3997.000000</td>\n",
       "      <td>NaN</td>\n",
       "      <td>57.000000</td>\n",
       "      <td>NaN</td>\n",
       "      <td>2.000000</td>\n",
       "      <td>NaN</td>\n",
       "    </tr>\n",
       "    <tr>\n",
       "      <th>50%</th>\n",
       "      <td>4040.000000</td>\n",
       "      <td>NaN</td>\n",
       "      <td>110.000000</td>\n",
       "      <td>NaN</td>\n",
       "      <td>3.000000</td>\n",
       "      <td>NaN</td>\n",
       "    </tr>\n",
       "    <tr>\n",
       "      <th>75%</th>\n",
       "      <td>4081.000000</td>\n",
       "      <td>NaN</td>\n",
       "      <td>155.750000</td>\n",
       "      <td>NaN</td>\n",
       "      <td>4.000000</td>\n",
       "      <td>NaN</td>\n",
       "    </tr>\n",
       "    <tr>\n",
       "      <th>max</th>\n",
       "      <td>4122.000000</td>\n",
       "      <td>NaN</td>\n",
       "      <td>4932.000000</td>\n",
       "      <td>NaN</td>\n",
       "      <td>5.000000</td>\n",
       "      <td>NaN</td>\n",
       "    </tr>\n",
       "  </tbody>\n",
       "</table>\n",
       "</div>"
      ],
      "text/plain": [
       "        Customer Reference ID Item Purchased  Purchase Amount (USD)  \\\n",
       "count             3400.000000           3400            2750.000000   \n",
       "unique                    NaN             50                    NaN   \n",
       "top                       NaN           Belt                    NaN   \n",
       "freq                      NaN             90                    NaN   \n",
       "mean              4039.660588            NaN             156.709818   \n",
       "std                 48.122583            NaN             419.536669   \n",
       "min               3957.000000            NaN              10.000000   \n",
       "25%               3997.000000            NaN              57.000000   \n",
       "50%               4040.000000            NaN             110.000000   \n",
       "75%               4081.000000            NaN             155.750000   \n",
       "max               4122.000000            NaN            4932.000000   \n",
       "\n",
       "       Date Purchase  Review Rating Payment Method  \n",
       "count           3400    3076.000000           3400  \n",
       "unique           365            NaN              2  \n",
       "top       22-09-2023            NaN    Credit Card  \n",
       "freq              17            NaN           1770  \n",
       "mean             NaN       2.999057            NaN  \n",
       "std              NaN       1.156505            NaN  \n",
       "min              NaN       1.000000            NaN  \n",
       "25%              NaN       2.000000            NaN  \n",
       "50%              NaN       3.000000            NaN  \n",
       "75%              NaN       4.000000            NaN  \n",
       "max              NaN       5.000000            NaN  "
      ]
     },
     "execution_count": 6,
     "metadata": {},
     "output_type": "execute_result"
    }
   ],
   "source": [
    "# Summary Statistics for all columns\n",
    "# Note: This will include categorical columns as well\n",
    "df.describe(include='all')"
   ]
  },
  {
   "cell_type": "code",
   "execution_count": 7,
   "id": "b2fea109",
   "metadata": {},
   "outputs": [
    {
     "name": "stdout",
     "output_type": "stream",
     "text": [
      "Number of duplicate rows: 0\n"
     ]
    },
    {
     "data": {
      "text/plain": [
       "customer_reference_id            object\n",
       "item_purchased                   object\n",
       "purchase_amount_(usd)           float64\n",
       "date_purchase            datetime64[ns]\n",
       "review_rating                   float64\n",
       "payment_method                   object\n",
       "dtype: object"
      ]
     },
     "execution_count": 7,
     "metadata": {},
     "output_type": "execute_result"
    }
   ],
   "source": [
    "# 3. Data Cleaning\n",
    "# Check for duplicates\n",
    "duplicates = df.duplicated().sum()\n",
    "print(f\"Number of duplicate rows: {duplicates}\")\n",
    "\n",
    "# Format data types\n",
    "# Convert 'Date Purchase' to datetime\n",
    "df['Date Purchase'] = pd.to_datetime(df['Date Purchase'], format='%d-%m-%Y')\n",
    "\n",
    "# Convert 'Customer Reference ID' to string\n",
    "df['Customer Reference ID'] = df['Customer Reference ID'].astype(str)\n",
    "\n",
    "# Standardize column names\n",
    "df.columns = df.columns.str.strip().str.lower().str.replace(' ', '_')\n",
    "\n",
    "# Re-check data types\n",
    "df.dtypes"
   ]
  },
  {
   "cell_type": "code",
   "execution_count": 8,
   "id": "cf19e199",
   "metadata": {},
   "outputs": [
    {
     "name": "stdout",
     "output_type": "stream",
     "text": [
      "Entries with missing values:  913 rows\n"
     ]
    },
    {
     "data": {
      "application/vnd.microsoft.datawrangler.viewer.v0+json": {
       "columns": [
        {
         "name": "index",
         "rawType": "int64",
         "type": "integer"
        },
        {
         "name": "customer_reference_id",
         "rawType": "object",
         "type": "string"
        },
        {
         "name": "item_purchased",
         "rawType": "object",
         "type": "string"
        },
        {
         "name": "purchase_amount_(usd)",
         "rawType": "float64",
         "type": "float"
        },
        {
         "name": "date_purchase",
         "rawType": "datetime64[ns]",
         "type": "datetime"
        },
        {
         "name": "review_rating",
         "rawType": "float64",
         "type": "float"
        },
        {
         "name": "payment_method",
         "rawType": "object",
         "type": "string"
        }
       ],
       "conversionMethod": "pd.DataFrame",
       "ref": "a19118c2-ac53-430c-8309-b36a5970f92b",
       "rows": [
        [
         "0",
         "4018",
         "Handbag",
         "4619.0",
         "2023-02-05 00:00:00",
         null,
         "Credit Card"
        ],
        [
         "9",
         "4010",
         "Loafers",
         "4233.0",
         "2023-06-11 00:00:00",
         null,
         "Credit Card"
        ],
        [
         "12",
         "4068",
         "Pajamas",
         "3728.0",
         "2022-12-09 00:00:00",
         null,
         "Credit Card"
        ],
        [
         "15",
         "4096",
         "Poncho",
         "2383.0",
         "2023-04-10 00:00:00",
         null,
         "Credit Card"
        ],
        [
         "19",
         "4103",
         "Romper",
         "4465.0",
         "2022-11-21 00:00:00",
         null,
         "Credit Card"
        ]
       ],
       "shape": {
        "columns": 6,
        "rows": 5
       }
      },
      "text/html": [
       "<div>\n",
       "<style scoped>\n",
       "    .dataframe tbody tr th:only-of-type {\n",
       "        vertical-align: middle;\n",
       "    }\n",
       "\n",
       "    .dataframe tbody tr th {\n",
       "        vertical-align: top;\n",
       "    }\n",
       "\n",
       "    .dataframe thead th {\n",
       "        text-align: right;\n",
       "    }\n",
       "</style>\n",
       "<table border=\"1\" class=\"dataframe\">\n",
       "  <thead>\n",
       "    <tr style=\"text-align: right;\">\n",
       "      <th></th>\n",
       "      <th>customer_reference_id</th>\n",
       "      <th>item_purchased</th>\n",
       "      <th>purchase_amount_(usd)</th>\n",
       "      <th>date_purchase</th>\n",
       "      <th>review_rating</th>\n",
       "      <th>payment_method</th>\n",
       "    </tr>\n",
       "  </thead>\n",
       "  <tbody>\n",
       "    <tr>\n",
       "      <th>0</th>\n",
       "      <td>4018</td>\n",
       "      <td>Handbag</td>\n",
       "      <td>4619.0</td>\n",
       "      <td>2023-02-05</td>\n",
       "      <td>NaN</td>\n",
       "      <td>Credit Card</td>\n",
       "    </tr>\n",
       "    <tr>\n",
       "      <th>9</th>\n",
       "      <td>4010</td>\n",
       "      <td>Loafers</td>\n",
       "      <td>4233.0</td>\n",
       "      <td>2023-06-11</td>\n",
       "      <td>NaN</td>\n",
       "      <td>Credit Card</td>\n",
       "    </tr>\n",
       "    <tr>\n",
       "      <th>12</th>\n",
       "      <td>4068</td>\n",
       "      <td>Pajamas</td>\n",
       "      <td>3728.0</td>\n",
       "      <td>2022-12-09</td>\n",
       "      <td>NaN</td>\n",
       "      <td>Credit Card</td>\n",
       "    </tr>\n",
       "    <tr>\n",
       "      <th>15</th>\n",
       "      <td>4096</td>\n",
       "      <td>Poncho</td>\n",
       "      <td>2383.0</td>\n",
       "      <td>2023-04-10</td>\n",
       "      <td>NaN</td>\n",
       "      <td>Credit Card</td>\n",
       "    </tr>\n",
       "    <tr>\n",
       "      <th>19</th>\n",
       "      <td>4103</td>\n",
       "      <td>Romper</td>\n",
       "      <td>4465.0</td>\n",
       "      <td>2022-11-21</td>\n",
       "      <td>NaN</td>\n",
       "      <td>Credit Card</td>\n",
       "    </tr>\n",
       "  </tbody>\n",
       "</table>\n",
       "</div>"
      ],
      "text/plain": [
       "   customer_reference_id item_purchased  purchase_amount_(usd) date_purchase  \\\n",
       "0                   4018        Handbag                 4619.0    2023-02-05   \n",
       "9                   4010        Loafers                 4233.0    2023-06-11   \n",
       "12                  4068        Pajamas                 3728.0    2022-12-09   \n",
       "15                  4096         Poncho                 2383.0    2023-04-10   \n",
       "19                  4103         Romper                 4465.0    2022-11-21   \n",
       "\n",
       "    review_rating payment_method  \n",
       "0             NaN    Credit Card  \n",
       "9             NaN    Credit Card  \n",
       "12            NaN    Credit Card  \n",
       "15            NaN    Credit Card  \n",
       "19            NaN    Credit Card  "
      ]
     },
     "execution_count": 8,
     "metadata": {},
     "output_type": "execute_result"
    }
   ],
   "source": [
    "# 4. Handle Missing Values\n",
    "# Extract rows with missing values\n",
    "missing_values = df[df.isnull().any(axis=1)]\n",
    "print(\"Entries with missing values: \",missing_values.shape[0], \"rows\")\n",
    "# Display the first few rows with missing values\n",
    "missing_values.head()"
   ]
  },
  {
   "cell_type": "code",
   "execution_count": 9,
   "id": "efdafa65",
   "metadata": {},
   "outputs": [
    {
     "name": "stdout",
     "output_type": "stream",
     "text": [
      "Items with missing values: \n",
      " Romper           28\n",
      "Pants            27\n",
      "T-shirt          26\n",
      "Skirt            25\n",
      "Belt             25\n",
      "Pajamas          25\n",
      "Blouse           24\n",
      "Socks            24\n",
      "Loafers          23\n",
      "Tank Top         22\n",
      "Blazer           21\n",
      "Leggings         20\n",
      "Raincoat         20\n",
      "Swimsuit         20\n",
      "Hat              19\n",
      "Vest             19\n",
      "Backpack         19\n",
      "Boots            19\n",
      "Trousers         19\n",
      "Handbag          19\n",
      "Poncho           19\n",
      "Jacket           19\n",
      "Shorts           18\n",
      "Hoodie           18\n",
      "Onesie           18\n",
      "Sweater          18\n",
      "Kimono           18\n",
      "Sneakers         18\n",
      "Polo Shirt       18\n",
      "Umbrella         18\n",
      "Coat             17\n",
      "Tie              17\n",
      "Jumpsuit         17\n",
      "Wallet           17\n",
      "Slippers         17\n",
      "Camisole         16\n",
      "Overalls         16\n",
      "Bowtie           16\n",
      "Jeans            16\n",
      "Cardigan         15\n",
      "Flip-Flops       14\n",
      "Dress            14\n",
      "Trench Coat      14\n",
      "Sunglasses       13\n",
      "Sun Hat          13\n",
      "Flannel Shirt    12\n",
      "Sandals          11\n",
      "Scarf            11\n",
      "Gloves           11\n",
      "Tunic            10\n",
      "Name: item_purchased, dtype: int64\n",
      "Unique items with missing values:  50\n"
     ]
    }
   ],
   "source": [
    "# Check missing values in 'item_purchased' column\n",
    "items_with_null = missing_values['item_purchased'].value_counts()\n",
    "print(\"Items with missing values: \\n\", items_with_null)\n",
    "\n",
    "# Count the number of unique items with missing values\n",
    "print(\"Unique items with missing values: \", len(items_with_null))"
   ]
  },
  {
   "cell_type": "markdown",
   "id": "efda3579",
   "metadata": {},
   "source": [
    "> _It looks like every item in the store has a missing value._; _either `purchase_amount` or `review_rating`_\n",
    "\n",
    "Lets go ahead and explore missing percentages in the columns with missing values"
   ]
  },
  {
   "cell_type": "code",
   "execution_count": 10,
   "id": "7b6971a3",
   "metadata": {},
   "outputs": [
    {
     "name": "stdout",
     "output_type": "stream",
     "text": [
      "Percentage of missing values in each column:\n",
      "purchase_amount_(usd)    19.117647\n",
      "review_rating             9.529412\n",
      "dtype: float64\n",
      "Percentage of rows with missing values: 26.85%\n"
     ]
    }
   ],
   "source": [
    "# Percentage of missing values in each column\n",
    "col_null_percentage = df.isnull().mean() * 100\n",
    "col_null_percentage = col_null_percentage[col_null_percentage > 0].sort_values(ascending=False)\n",
    "print(\"Percentage of missing values in each column:\")\n",
    "print(col_null_percentage)\n",
    "\n",
    "# Percentage of missing values in the dataset\n",
    "null_percentage = len(missing_values) / len(df) * 100\n",
    "print(f\"Percentage of rows with missing values: {null_percentage:.2f}%\") "
   ]
  },
  {
   "cell_type": "code",
   "execution_count": 11,
   "id": "15b97d3f",
   "metadata": {},
   "outputs": [
    {
     "data": {
      "text/plain": [
       "4034    12\n",
       "3962    12\n",
       "4083    11\n",
       "4035    10\n",
       "3987    10\n",
       "        ..\n",
       "4015     2\n",
       "4060     1\n",
       "4067     1\n",
       "4024     1\n",
       "4026     1\n",
       "Name: customer_reference_id, Length: 166, dtype: int64"
      ]
     },
     "execution_count": 11,
     "metadata": {},
     "output_type": "execute_result"
    }
   ],
   "source": [
    "missing_values['customer_reference_id'].value_counts()"
   ]
  },
  {
   "cell_type": "code",
   "execution_count": 12,
   "id": "c5b3a5a9",
   "metadata": {},
   "outputs": [],
   "source": [
    "# Replace missing Purchase Amounts with item-level means\n",
    "df[\"purchase_amount_(usd)\"] = df.groupby(\"item_purchased\")[\"purchase_amount_(usd)\"]\\\n",
    "    .transform(lambda x: x.fillna(x.mean()))\n",
    "\n",
    "# Replace missing Review Ratings with item-level means\n",
    "df[\"review_rating\"] = df.groupby(\"item_purchased\")[\"review_rating\"]\\\n",
    "    .transform(lambda x: x.fillna(x.mean()))"
   ]
  },
  {
   "cell_type": "code",
   "execution_count": 13,
   "id": "7f0e5757",
   "metadata": {},
   "outputs": [
    {
     "data": {
      "text/plain": [
       "customer_reference_id    0\n",
       "item_purchased           0\n",
       "purchase_amount_(usd)    0\n",
       "date_purchase            0\n",
       "review_rating            0\n",
       "payment_method           0\n",
       "dtype: int64"
      ]
     },
     "execution_count": 13,
     "metadata": {},
     "output_type": "execute_result"
    }
   ],
   "source": [
    "# Re-check for missing values after imputation\n",
    "df.isnull().sum().sort_values(ascending=False)"
   ]
  },
  {
   "cell_type": "markdown",
   "id": "cecafa83",
   "metadata": {},
   "source": [
    "> Imputed missing purchase amounts and review ratings using item-level means, preserving all rows in the dataset and retaining item-specific pricing/review trends."
   ]
  },
  {
   "cell_type": "code",
   "execution_count": 14,
   "id": "b87c94d6",
   "metadata": {},
   "outputs": [
    {
     "data": {
      "image/png": "[encoded data removed]",
      "text/plain": [
       "<Figure size 640x480 with 1 Axes>"
      ]
     },
     "metadata": {},
     "output_type": "display_data"
    },
    {
     "data": {
      "image/png": "[encoded data removed]",
      "text/plain": [
       "<Figure size 640x480 with 1 Axes>"
      ]
     },
     "metadata": {},
     "output_type": "display_data"
    }
   ],
   "source": [
    "\n",
    "sns.histplot(df['purchase_amount_(usd)'], bins=30, kde=True)\n",
    "plt.title(\"Distribution of Purchase Amounts\")\n",
    "plt.show()\n",
    "\n",
    "sns.histplot(df['review_rating'], bins=5, kde=False)\n",
    "plt.title(\"Distribution of Review Ratings\")\n",
    "plt.show()"
   ]
  },
  {
   "cell_type": "code",
   "execution_count": null,
   "id": "bf1992a5",
   "metadata": {},
   "outputs": [
    {
     "data": {
      "image/png": "[encoded data removed]",
      "text/plain": [
       "<Figure size 800x400 with 1 Axes>"
      ]
     },
     "metadata": {},
     "output_type": "display_data"
    },
    {
     "data": {
      "image/png": "[encoded data removed]",
      "text/plain": [
       "<Figure size 800x400 with 1 Axes>"
      ]
     },
     "metadata": {},
     "output_type": "display_data"
    }
   ],
   "source": [
    "# 7. Outlier Detection (optional visual checks)\n",
    "\n",
    "plt.figure(figsize=(8, 4))\n",
    "sns.boxplot(x=df['purchase_amount_(usd)'])\n",
    "plt.title(\"Boxplot of Purchase Amount\")\n",
    "plt.show()\n",
    "\n",
    "plt.figure(figsize=(8, 4))\n",
    "sns.boxplot(x=df['review_rating'])\n",
    "plt.title(\"Boxplot of Review Ratings\")\n",
    "plt.show()\n"
   ]
  },
  {
   "cell_type": "code",
   "execution_count": 16,
   "id": "69c84c65",
   "metadata": {},
   "outputs": [
    {
     "data": {
      "text/plain": [
       "count    3400.000000\n",
       "mean      156.578638\n",
       "std       377.892012\n",
       "min        10.000000\n",
       "25%        70.000000\n",
       "50%       118.531915\n",
       "75%       161.885593\n",
       "max      4932.000000\n",
       "Name: purchase_amount_(usd), dtype: float64"
      ]
     },
     "execution_count": 16,
     "metadata": {},
     "output_type": "execute_result"
    }
   ],
   "source": [
    "df['purchase_amount_(usd)'].describe()"
   ]
  },
  {
   "cell_type": "markdown",
   "id": "7885d3d6",
   "metadata": {},
   "source": [
    "> `purchase_amount_(usd)` feature is right skewed with a long tail. Most items are priced under $200, but a few outliers push the average way up."
   ]
  },
  {
   "cell_type": "code",
   "execution_count": 17,
   "id": "60d9c8ec",
   "metadata": {},
   "outputs": [
    {
     "name": "stdout",
     "output_type": "stream",
     "text": [
      "Cleaned data saved to data/processed/\n"
     ]
    }
   ],
   "source": [
    "# 8. Save Cleaned Data\n",
    "df.to_csv(\"../data/processed/cleaned_fashion_sales.csv\", index=False)\n",
    "print(\"Cleaned data saved to data/processed/\")"
   ]
  }
 ],
 "metadata": {
  "kernelspec": {
   "display_name": "learn-env",
   "language": "python",
   "name": "python3"
  },
  "language_info": {
   "codemirror_mode": {
    "name": "ipython",
    "version": 3
   },
   "file_extension": ".py",
   "mimetype": "text/x-python",
   "name": "python",
   "nbconvert_exporter": "python",
   "pygments_lexer": "ipython3",
   "version": "3.8.5"
  }
 },
 "nbformat": 4,
 "nbformat_minor": 5
}
