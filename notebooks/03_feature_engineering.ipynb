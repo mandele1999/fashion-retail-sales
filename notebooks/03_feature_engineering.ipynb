{
 "cells": [
  {
   "cell_type": "markdown",
   "id": "15592a9c",
   "metadata": {},
   "source": [
    "# _**Title: Feature Engineering for Fashion Retail Sales Analysis**_\n",
    "\n",
    "## 1. Introduction\n",
    "This notebook focuses on feature engineering to prepare the cleaned dataset for predictive modeling and deeper insights into customer behavior. \n",
    "We will transform numerical features, extract time-based features, encode categorical variables, and create customer-level aggregates for further analysis."
   ]
  },
  {
   "cell_type": "code",
   "execution_count": 5,
   "id": "93657451",
   "metadata": {},
   "outputs": [],
   "source": [
    "# Import dependencies\n",
    "import pandas as pd\n",
    "import numpy as np\n",
    "import matplotlib.pyplot as plt\n",
    "import seaborn as sns\n",
    "plt.style.use('ggplot')\n",
    "sns.set(style=\"whitegrid\")\n",
    "import warnings\n",
    "warnings.filterwarnings(\"ignore\")"
   ]
  },
  {
   "cell_type": "code",
   "execution_count": 8,
   "id": "5983c27f",
   "metadata": {},
   "outputs": [
    {
     "name": "stdout",
     "output_type": "stream",
     "text": [
      "Dataset Loaded Successfully!\n",
      "Shape of the dataset: (3400, 7)\n"
     ]
    },
    {
     "data": {
      "application/vnd.microsoft.datawrangler.viewer.v0+json": {
       "columns": [
        {
         "name": "index",
         "rawType": "int64",
         "type": "integer"
        },
        {
         "name": "customer_reference_id",
         "rawType": "int64",
         "type": "integer"
        },
        {
         "name": "item_purchased",
         "rawType": "object",
         "type": "string"
        },
        {
         "name": "purchase_amount_(usd)",
         "rawType": "float64",
         "type": "float"
        },
        {
         "name": "date_purchase",
         "rawType": "object",
         "type": "string"
        },
        {
         "name": "review_rating",
         "rawType": "float64",
         "type": "float"
        },
        {
         "name": "payment_method",
         "rawType": "object",
         "type": "string"
        },
        {
         "name": "log_purchase_amount",
         "rawType": "float64",
         "type": "float"
        }
       ],
       "conversionMethod": "pd.DataFrame",
       "ref": "77b02012-e788-47f7-80af-88a7ea967ebd",
       "rows": [
        [
         "0",
         "4018",
         "Handbag",
         "4619.0",
         "2023-02-05",
         "3.2",
         "Credit Card",
         "8.438149984075784"
        ],
        [
         "1",
         "4115",
         "Tunic",
         "2456.0",
         "2023-07-11",
         "2.0",
         "Credit Card",
         "7.806696372521179"
        ],
        [
         "2",
         "4019",
         "Tank Top",
         "2102.0",
         "2023-03-23",
         "4.1",
         "Cash",
         "7.6511201757027"
        ],
        [
         "3",
         "4097",
         "Leggings",
         "3126.0",
         "2023-03-15",
         "3.2",
         "Cash",
         "8.047829357457841"
        ],
        [
         "4",
         "3997",
         "Wallet",
         "3003.0",
         "2022-11-27",
         "4.7",
         "Cash",
         "8.007700012884026"
        ]
       ],
       "shape": {
        "columns": 7,
        "rows": 5
       }
      },
      "text/html": [
       "<div>\n",
       "<style scoped>\n",
       "    .dataframe tbody tr th:only-of-type {\n",
       "        vertical-align: middle;\n",
       "    }\n",
       "\n",
       "    .dataframe tbody tr th {\n",
       "        vertical-align: top;\n",
       "    }\n",
       "\n",
       "    .dataframe thead th {\n",
       "        text-align: right;\n",
       "    }\n",
       "</style>\n",
       "<table border=\"1\" class=\"dataframe\">\n",
       "  <thead>\n",
       "    <tr style=\"text-align: right;\">\n",
       "      <th></th>\n",
       "      <th>customer_reference_id</th>\n",
       "      <th>item_purchased</th>\n",
       "      <th>purchase_amount_(usd)</th>\n",
       "      <th>date_purchase</th>\n",
       "      <th>review_rating</th>\n",
       "      <th>payment_method</th>\n",
       "      <th>log_purchase_amount</th>\n",
       "    </tr>\n",
       "  </thead>\n",
       "  <tbody>\n",
       "    <tr>\n",
       "      <th>0</th>\n",
       "      <td>4018</td>\n",
       "      <td>Handbag</td>\n",
       "      <td>4619.0</td>\n",
       "      <td>2023-02-05</td>\n",
       "      <td>3.2</td>\n",
       "      <td>Credit Card</td>\n",
       "      <td>8.438150</td>\n",
       "    </tr>\n",
       "    <tr>\n",
       "      <th>1</th>\n",
       "      <td>4115</td>\n",
       "      <td>Tunic</td>\n",
       "      <td>2456.0</td>\n",
       "      <td>2023-07-11</td>\n",
       "      <td>2.0</td>\n",
       "      <td>Credit Card</td>\n",
       "      <td>7.806696</td>\n",
       "    </tr>\n",
       "    <tr>\n",
       "      <th>2</th>\n",
       "      <td>4019</td>\n",
       "      <td>Tank Top</td>\n",
       "      <td>2102.0</td>\n",
       "      <td>2023-03-23</td>\n",
       "      <td>4.1</td>\n",
       "      <td>Cash</td>\n",
       "      <td>7.651120</td>\n",
       "    </tr>\n",
       "    <tr>\n",
       "      <th>3</th>\n",
       "      <td>4097</td>\n",
       "      <td>Leggings</td>\n",
       "      <td>3126.0</td>\n",
       "      <td>2023-03-15</td>\n",
       "      <td>3.2</td>\n",
       "      <td>Cash</td>\n",
       "      <td>8.047829</td>\n",
       "    </tr>\n",
       "    <tr>\n",
       "      <th>4</th>\n",
       "      <td>3997</td>\n",
       "      <td>Wallet</td>\n",
       "      <td>3003.0</td>\n",
       "      <td>2022-11-27</td>\n",
       "      <td>4.7</td>\n",
       "      <td>Cash</td>\n",
       "      <td>8.007700</td>\n",
       "    </tr>\n",
       "  </tbody>\n",
       "</table>\n",
       "</div>"
      ],
      "text/plain": [
       "   customer_reference_id item_purchased  purchase_amount_(usd) date_purchase  \\\n",
       "0                   4018        Handbag                 4619.0    2023-02-05   \n",
       "1                   4115          Tunic                 2456.0    2023-07-11   \n",
       "2                   4019       Tank Top                 2102.0    2023-03-23   \n",
       "3                   4097       Leggings                 3126.0    2023-03-15   \n",
       "4                   3997         Wallet                 3003.0    2022-11-27   \n",
       "\n",
       "   review_rating payment_method  log_purchase_amount  \n",
       "0            3.2    Credit Card             8.438150  \n",
       "1            2.0    Credit Card             7.806696  \n",
       "2            4.1           Cash             7.651120  \n",
       "3            3.2           Cash             8.047829  \n",
       "4            4.7           Cash             8.007700  "
      ]
     },
     "execution_count": 8,
     "metadata": {},
     "output_type": "execute_result"
    }
   ],
   "source": [
    "# Load processed dataset\n",
    "df = pd.read_csv(\"../data/processed/retail_cleaned_eda.csv\")\n",
    "# initial overview\n",
    "print(\"Dataset Loaded Successfully!\")\n",
    "print(\"Shape of the dataset:\", df.shape)\n",
    "df.head()"
   ]
  },
  {
   "cell_type": "code",
   "execution_count": 9,
   "id": "9140b765",
   "metadata": {},
   "outputs": [
    {
     "name": "stdout",
     "output_type": "stream",
     "text": [
      "<class 'pandas.core.frame.DataFrame'>\n",
      "RangeIndex: 3400 entries, 0 to 3399\n",
      "Data columns (total 7 columns):\n",
      " #   Column                 Non-Null Count  Dtype  \n",
      "---  ------                 --------------  -----  \n",
      " 0   customer_reference_id  3400 non-null   int64  \n",
      " 1   item_purchased         3400 non-null   object \n",
      " 2   purchase_amount_(usd)  3400 non-null   float64\n",
      " 3   date_purchase          3400 non-null   object \n",
      " 4   review_rating          3400 non-null   float64\n",
      " 5   payment_method         3400 non-null   object \n",
      " 6   log_purchase_amount    3400 non-null   float64\n",
      "dtypes: float64(3), int64(1), object(3)\n",
      "memory usage: 186.1+ KB\n"
     ]
    }
   ],
   "source": [
    "df.info()"
   ]
  }
 ],
 "metadata": {
  "kernelspec": {
   "display_name": "learn-env",
   "language": "python",
   "name": "python3"
  },
  "language_info": {
   "codemirror_mode": {
    "name": "ipython",
    "version": 3
   },
   "file_extension": ".py",
   "mimetype": "text/x-python",
   "name": "python",
   "nbconvert_exporter": "python",
   "pygments_lexer": "ipython3",
   "version": "3.8.5"
  }
 },
 "nbformat": 4,
 "nbformat_minor": 5
}
