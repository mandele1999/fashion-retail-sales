{
 "cells": [
  {
   "cell_type": "markdown",
   "id": "15592a9c",
   "metadata": {},
   "source": [
    "# _**Feature Engineering for Fashion Retail Sales Analysis**_\n",
    "\n",
    "## **Introduction**\n",
    "\n",
    "This notebook focuses on feature engineering to prepare the cleaned dataset for predictive modeling and deeper insights into customer behavior. \n",
    "We will transform numerical features, extract time-based features, encode categorical variables, and create customer-level aggregates for further analysis.\n",
    "\n",
    "**Objectives:**\n",
    "\n",
    "- Extract useful time-based features (e.g., purchase month, day of week)\n",
    "- Create customer-level flags (e.g., high spender)\n",
    "- Encode categorical variables for modeling\n",
    "- Prepare data for customer segmentation (e.g., Recency, Frequency, Monetary metrics)"
   ]
  },
  {
   "cell_type": "markdown",
   "id": "fb22f2fe",
   "metadata": {},
   "source": [
    "## Import Libraries & Load Cleaned Dataset"
   ]
  },
  {
   "cell_type": "code",
   "execution_count": 43,
   "id": "93657451",
   "metadata": {},
   "outputs": [],
   "source": [
    "# Import dependencies\n",
    "import pandas as pd\n",
    "import numpy as np\n",
    "from sklearn.preprocessing import LabelEncoder\n",
    "import matplotlib.pyplot as plt\n",
    "import seaborn as sns\n",
    "plt.style.use('ggplot')\n",
    "sns.set(style=\"whitegrid\")\n",
    "import warnings\n",
    "warnings.filterwarnings(\"ignore\")"
   ]
  },
  {
   "cell_type": "code",
   "execution_count": 44,
   "id": "5983c27f",
   "metadata": {},
   "outputs": [
    {
     "name": "stdout",
     "output_type": "stream",
     "text": [
      "Dataset Loaded Successfully!\n",
      "Shape of the dataset: (3400, 7)\n"
     ]
    },
    {
     "data": {
      "application/vnd.microsoft.datawrangler.viewer.v0+json": {
       "columns": [
        {
         "name": "index",
         "rawType": "int64",
         "type": "integer"
        },
        {
         "name": "customer_reference_id",
         "rawType": "int64",
         "type": "integer"
        },
        {
         "name": "item_purchased",
         "rawType": "object",
         "type": "string"
        },
        {
         "name": "purchase_amount_(usd)",
         "rawType": "float64",
         "type": "float"
        },
        {
         "name": "date_purchase",
         "rawType": "object",
         "type": "string"
        },
        {
         "name": "review_rating",
         "rawType": "float64",
         "type": "float"
        },
        {
         "name": "payment_method",
         "rawType": "object",
         "type": "string"
        },
        {
         "name": "log_purchase_amount",
         "rawType": "float64",
         "type": "float"
        }
       ],
       "conversionMethod": "pd.DataFrame",
       "ref": "2186b755-8be0-4acf-8f94-f8d1f8d4a306",
       "rows": [
        [
         "0",
         "4018",
         "Handbag",
         "4619.0",
         "2023-02-05",
         "3.2",
         "Credit Card",
         "8.438149984075784"
        ],
        [
         "1",
         "4115",
         "Tunic",
         "2456.0",
         "2023-07-11",
         "2.0",
         "Credit Card",
         "7.806696372521179"
        ],
        [
         "2",
         "4019",
         "Tank Top",
         "2102.0",
         "2023-03-23",
         "4.1",
         "Cash",
         "7.6511201757027"
        ],
        [
         "3",
         "4097",
         "Leggings",
         "3126.0",
         "2023-03-15",
         "3.2",
         "Cash",
         "8.047829357457841"
        ],
        [
         "4",
         "3997",
         "Wallet",
         "3003.0",
         "2022-11-27",
         "4.7",
         "Cash",
         "8.007700012884026"
        ]
       ],
       "shape": {
        "columns": 7,
        "rows": 5
       }
      },
      "text/html": [
       "<div>\n",
       "<style scoped>\n",
       "    .dataframe tbody tr th:only-of-type {\n",
       "        vertical-align: middle;\n",
       "    }\n",
       "\n",
       "    .dataframe tbody tr th {\n",
       "        vertical-align: top;\n",
       "    }\n",
       "\n",
       "    .dataframe thead th {\n",
       "        text-align: right;\n",
       "    }\n",
       "</style>\n",
       "<table border=\"1\" class=\"dataframe\">\n",
       "  <thead>\n",
       "    <tr style=\"text-align: right;\">\n",
       "      <th></th>\n",
       "      <th>customer_reference_id</th>\n",
       "      <th>item_purchased</th>\n",
       "      <th>purchase_amount_(usd)</th>\n",
       "      <th>date_purchase</th>\n",
       "      <th>review_rating</th>\n",
       "      <th>payment_method</th>\n",
       "      <th>log_purchase_amount</th>\n",
       "    </tr>\n",
       "  </thead>\n",
       "  <tbody>\n",
       "    <tr>\n",
       "      <th>0</th>\n",
       "      <td>4018</td>\n",
       "      <td>Handbag</td>\n",
       "      <td>4619.0</td>\n",
       "      <td>2023-02-05</td>\n",
       "      <td>3.2</td>\n",
       "      <td>Credit Card</td>\n",
       "      <td>8.438150</td>\n",
       "    </tr>\n",
       "    <tr>\n",
       "      <th>1</th>\n",
       "      <td>4115</td>\n",
       "      <td>Tunic</td>\n",
       "      <td>2456.0</td>\n",
       "      <td>2023-07-11</td>\n",
       "      <td>2.0</td>\n",
       "      <td>Credit Card</td>\n",
       "      <td>7.806696</td>\n",
       "    </tr>\n",
       "    <tr>\n",
       "      <th>2</th>\n",
       "      <td>4019</td>\n",
       "      <td>Tank Top</td>\n",
       "      <td>2102.0</td>\n",
       "      <td>2023-03-23</td>\n",
       "      <td>4.1</td>\n",
       "      <td>Cash</td>\n",
       "      <td>7.651120</td>\n",
       "    </tr>\n",
       "    <tr>\n",
       "      <th>3</th>\n",
       "      <td>4097</td>\n",
       "      <td>Leggings</td>\n",
       "      <td>3126.0</td>\n",
       "      <td>2023-03-15</td>\n",
       "      <td>3.2</td>\n",
       "      <td>Cash</td>\n",
       "      <td>8.047829</td>\n",
       "    </tr>\n",
       "    <tr>\n",
       "      <th>4</th>\n",
       "      <td>3997</td>\n",
       "      <td>Wallet</td>\n",
       "      <td>3003.0</td>\n",
       "      <td>2022-11-27</td>\n",
       "      <td>4.7</td>\n",
       "      <td>Cash</td>\n",
       "      <td>8.007700</td>\n",
       "    </tr>\n",
       "  </tbody>\n",
       "</table>\n",
       "</div>"
      ],
      "text/plain": [
       "   customer_reference_id item_purchased  purchase_amount_(usd) date_purchase  \\\n",
       "0                   4018        Handbag                 4619.0    2023-02-05   \n",
       "1                   4115          Tunic                 2456.0    2023-07-11   \n",
       "2                   4019       Tank Top                 2102.0    2023-03-23   \n",
       "3                   4097       Leggings                 3126.0    2023-03-15   \n",
       "4                   3997         Wallet                 3003.0    2022-11-27   \n",
       "\n",
       "   review_rating payment_method  log_purchase_amount  \n",
       "0            3.2    Credit Card             8.438150  \n",
       "1            2.0    Credit Card             7.806696  \n",
       "2            4.1           Cash             7.651120  \n",
       "3            3.2           Cash             8.047829  \n",
       "4            4.7           Cash             8.007700  "
      ]
     },
     "execution_count": 44,
     "metadata": {},
     "output_type": "execute_result"
    }
   ],
   "source": [
    "# Load processed dataset\n",
    "df = pd.read_csv(\"../data/processed/retail_cleaned_eda.csv\")\n",
    "# initial overview\n",
    "print(\"Dataset Loaded Successfully!\")\n",
    "print(\"Shape of the dataset:\", df.shape)\n",
    "df.head()"
   ]
  },
  {
   "cell_type": "code",
   "execution_count": 45,
   "id": "9140b765",
   "metadata": {},
   "outputs": [
    {
     "name": "stdout",
     "output_type": "stream",
     "text": [
      "<class 'pandas.core.frame.DataFrame'>\n",
      "RangeIndex: 3400 entries, 0 to 3399\n",
      "Data columns (total 7 columns):\n",
      " #   Column                 Non-Null Count  Dtype  \n",
      "---  ------                 --------------  -----  \n",
      " 0   customer_reference_id  3400 non-null   int64  \n",
      " 1   item_purchased         3400 non-null   object \n",
      " 2   purchase_amount_(usd)  3400 non-null   float64\n",
      " 3   date_purchase          3400 non-null   object \n",
      " 4   review_rating          3400 non-null   float64\n",
      " 5   payment_method         3400 non-null   object \n",
      " 6   log_purchase_amount    3400 non-null   float64\n",
      "dtypes: float64(3), int64(1), object(3)\n",
      "memory usage: 186.1+ KB\n"
     ]
    }
   ],
   "source": [
    "df.info()"
   ]
  },
  {
   "cell_type": "markdown",
   "id": "bd858db2",
   "metadata": {},
   "source": [
    "## Feature Creation\n",
    "### Transform Numerical Features - Log Transformation"
   ]
  },
  {
   "cell_type": "code",
   "execution_count": 46,
   "id": "3b505e4c",
   "metadata": {},
   "outputs": [
    {
     "data": {
      "image/png": "[encoded data removed]",
      "text/plain": [
       "<Figure size 1200x500 with 2 Axes>"
      ]
     },
     "metadata": {},
     "output_type": "display_data"
    }
   ],
   "source": [
    "# Log-transform the purchase amount to reduce skewness\n",
    "df['log_purchase_amount'] = np.log1p(df['purchase_amount_(usd)'])\n",
    "\n",
    "# Visualize the distribution before and after transformation\n",
    "plt.figure(figsize=(12, 5))\n",
    "plt.subplot(1, 2, 1)\n",
    "sns.histplot(df['purchase_amount_(usd)'], kde=True, bins=30, color='blue')\n",
    "plt.title(\"Original Purchase Amount Distribution\")\n",
    "plt.subplot(1, 2, 2)\n",
    "sns.histplot(df['log_purchase_amount'], kde=True, bins=30, color='green')\n",
    "plt.title(\"Log-Transformed Purchase Amount Distribution\")\n",
    "plt.tight_layout()\n",
    "plt.show()"
   ]
  },
  {
   "cell_type": "markdown",
   "id": "cf58cf33",
   "metadata": {},
   "source": [
    "### Extract Time-Based Features"
   ]
  },
  {
   "cell_type": "code",
   "execution_count": 47,
   "id": "85078f87",
   "metadata": {},
   "outputs": [
    {
     "data": {
      "application/vnd.microsoft.datawrangler.viewer.v0+json": {
       "columns": [
        {
         "name": "index",
         "rawType": "int64",
         "type": "integer"
        },
        {
         "name": "customer_reference_id",
         "rawType": "int64",
         "type": "integer"
        },
        {
         "name": "item_purchased",
         "rawType": "object",
         "type": "string"
        },
        {
         "name": "purchase_amount_(usd)",
         "rawType": "float64",
         "type": "float"
        },
        {
         "name": "date_purchase",
         "rawType": "datetime64[ns]",
         "type": "datetime"
        },
        {
         "name": "review_rating",
         "rawType": "float64",
         "type": "float"
        },
        {
         "name": "payment_method",
         "rawType": "object",
         "type": "string"
        },
        {
         "name": "log_purchase_amount",
         "rawType": "float64",
         "type": "float"
        },
        {
         "name": "month",
         "rawType": "int64",
         "type": "integer"
        },
        {
         "name": "weekday",
         "rawType": "int64",
         "type": "integer"
        },
        {
         "name": "is_q4",
         "rawType": "bool",
         "type": "boolean"
        }
       ],
       "conversionMethod": "pd.DataFrame",
       "ref": "ffabd69e-fa0a-4e07-a580-e49c9bb123ea",
       "rows": [
        [
         "1192",
         "4003",
         "Slippers",
         "245.30434782608697",
         "2023-01-01 00:00:00",
         "4.7",
         "Cash",
         "5.506567957532957",
         "1",
         "6",
         "False"
        ],
        [
         "483",
         "3973",
         "Gloves",
         "189.0",
         "2022-10-30 00:00:00",
         "2.5",
         "Credit Card",
         "5.247024072160486",
         "10",
         "6",
         "True"
        ],
        [
         "981",
         "4108",
         "Kimono",
         "31.0",
         "2023-05-02 00:00:00",
         "2.4",
         "Cash",
         "3.4657359027997265",
         "5",
         "1",
         "False"
        ],
        [
         "1926",
         "4118",
         "Sneakers",
         "173.0",
         "2023-09-14 00:00:00",
         "2.0",
         "Credit Card",
         "5.159055299214529",
         "9",
         "3",
         "False"
        ],
        [
         "1913",
         "4071",
         "Pants",
         "43.0",
         "2022-10-05 00:00:00",
         "3.1",
         "Credit Card",
         "3.784189633918261",
         "10",
         "2",
         "True"
        ],
        [
         "791",
         "4115",
         "Raincoat",
         "199.0",
         "2023-04-20 00:00:00",
         "2.2",
         "Credit Card",
         "5.298317366548036",
         "4",
         "3",
         "False"
        ],
        [
         "1610",
         "4038",
         "Backpack",
         "103.0",
         "2023-07-20 00:00:00",
         "1.0",
         "Cash",
         "4.6443908991413725",
         "7",
         "3",
         "False"
        ],
        [
         "991",
         "4075",
         "Socks",
         "100.0",
         "2023-09-04 00:00:00",
         "4.4",
         "Credit Card",
         "4.61512051684126",
         "9",
         "0",
         "False"
        ],
        [
         "1149",
         "4034",
         "Jumpsuit",
         "114.21739130434784",
         "2023-01-29 00:00:00",
         "3.5",
         "Credit Card",
         "4.746820703051118",
         "1",
         "6",
         "False"
        ],
        [
         "2548",
         "4107",
         "Flannel Shirt",
         "102.37735849056604",
         "2023-04-09 00:00:00",
         "2.6",
         "Credit Card",
         "4.638385967986294",
         "4",
         "6",
         "False"
        ]
       ],
       "shape": {
        "columns": 10,
        "rows": 10
       }
      },
      "text/html": [
       "<div>\n",
       "<style scoped>\n",
       "    .dataframe tbody tr th:only-of-type {\n",
       "        vertical-align: middle;\n",
       "    }\n",
       "\n",
       "    .dataframe tbody tr th {\n",
       "        vertical-align: top;\n",
       "    }\n",
       "\n",
       "    .dataframe thead th {\n",
       "        text-align: right;\n",
       "    }\n",
       "</style>\n",
       "<table border=\"1\" class=\"dataframe\">\n",
       "  <thead>\n",
       "    <tr style=\"text-align: right;\">\n",
       "      <th></th>\n",
       "      <th>customer_reference_id</th>\n",
       "      <th>item_purchased</th>\n",
       "      <th>purchase_amount_(usd)</th>\n",
       "      <th>date_purchase</th>\n",
       "      <th>review_rating</th>\n",
       "      <th>payment_method</th>\n",
       "      <th>log_purchase_amount</th>\n",
       "      <th>month</th>\n",
       "      <th>weekday</th>\n",
       "      <th>is_q4</th>\n",
       "    </tr>\n",
       "  </thead>\n",
       "  <tbody>\n",
       "    <tr>\n",
       "      <th>1192</th>\n",
       "      <td>4003</td>\n",
       "      <td>Slippers</td>\n",
       "      <td>245.304348</td>\n",
       "      <td>2023-01-01</td>\n",
       "      <td>4.7</td>\n",
       "      <td>Cash</td>\n",
       "      <td>5.506568</td>\n",
       "      <td>1</td>\n",
       "      <td>6</td>\n",
       "      <td>False</td>\n",
       "    </tr>\n",
       "    <tr>\n",
       "      <th>483</th>\n",
       "      <td>3973</td>\n",
       "      <td>Gloves</td>\n",
       "      <td>189.000000</td>\n",
       "      <td>2022-10-30</td>\n",
       "      <td>2.5</td>\n",
       "      <td>Credit Card</td>\n",
       "      <td>5.247024</td>\n",
       "      <td>10</td>\n",
       "      <td>6</td>\n",
       "      <td>True</td>\n",
       "    </tr>\n",
       "    <tr>\n",
       "      <th>981</th>\n",
       "      <td>4108</td>\n",
       "      <td>Kimono</td>\n",
       "      <td>31.000000</td>\n",
       "      <td>2023-05-02</td>\n",
       "      <td>2.4</td>\n",
       "      <td>Cash</td>\n",
       "      <td>3.465736</td>\n",
       "      <td>5</td>\n",
       "      <td>1</td>\n",
       "      <td>False</td>\n",
       "    </tr>\n",
       "    <tr>\n",
       "      <th>1926</th>\n",
       "      <td>4118</td>\n",
       "      <td>Sneakers</td>\n",
       "      <td>173.000000</td>\n",
       "      <td>2023-09-14</td>\n",
       "      <td>2.0</td>\n",
       "      <td>Credit Card</td>\n",
       "      <td>5.159055</td>\n",
       "      <td>9</td>\n",
       "      <td>3</td>\n",
       "      <td>False</td>\n",
       "    </tr>\n",
       "    <tr>\n",
       "      <th>1913</th>\n",
       "      <td>4071</td>\n",
       "      <td>Pants</td>\n",
       "      <td>43.000000</td>\n",
       "      <td>2022-10-05</td>\n",
       "      <td>3.1</td>\n",
       "      <td>Credit Card</td>\n",
       "      <td>3.784190</td>\n",
       "      <td>10</td>\n",
       "      <td>2</td>\n",
       "      <td>True</td>\n",
       "    </tr>\n",
       "    <tr>\n",
       "      <th>791</th>\n",
       "      <td>4115</td>\n",
       "      <td>Raincoat</td>\n",
       "      <td>199.000000</td>\n",
       "      <td>2023-04-20</td>\n",
       "      <td>2.2</td>\n",
       "      <td>Credit Card</td>\n",
       "      <td>5.298317</td>\n",
       "      <td>4</td>\n",
       "      <td>3</td>\n",
       "      <td>False</td>\n",
       "    </tr>\n",
       "    <tr>\n",
       "      <th>1610</th>\n",
       "      <td>4038</td>\n",
       "      <td>Backpack</td>\n",
       "      <td>103.000000</td>\n",
       "      <td>2023-07-20</td>\n",
       "      <td>1.0</td>\n",
       "      <td>Cash</td>\n",
       "      <td>4.644391</td>\n",
       "      <td>7</td>\n",
       "      <td>3</td>\n",
       "      <td>False</td>\n",
       "    </tr>\n",
       "    <tr>\n",
       "      <th>991</th>\n",
       "      <td>4075</td>\n",
       "      <td>Socks</td>\n",
       "      <td>100.000000</td>\n",
       "      <td>2023-09-04</td>\n",
       "      <td>4.4</td>\n",
       "      <td>Credit Card</td>\n",
       "      <td>4.615121</td>\n",
       "      <td>9</td>\n",
       "      <td>0</td>\n",
       "      <td>False</td>\n",
       "    </tr>\n",
       "    <tr>\n",
       "      <th>1149</th>\n",
       "      <td>4034</td>\n",
       "      <td>Jumpsuit</td>\n",
       "      <td>114.217391</td>\n",
       "      <td>2023-01-29</td>\n",
       "      <td>3.5</td>\n",
       "      <td>Credit Card</td>\n",
       "      <td>4.746821</td>\n",
       "      <td>1</td>\n",
       "      <td>6</td>\n",
       "      <td>False</td>\n",
       "    </tr>\n",
       "    <tr>\n",
       "      <th>2548</th>\n",
       "      <td>4107</td>\n",
       "      <td>Flannel Shirt</td>\n",
       "      <td>102.377358</td>\n",
       "      <td>2023-04-09</td>\n",
       "      <td>2.6</td>\n",
       "      <td>Credit Card</td>\n",
       "      <td>4.638386</td>\n",
       "      <td>4</td>\n",
       "      <td>6</td>\n",
       "      <td>False</td>\n",
       "    </tr>\n",
       "  </tbody>\n",
       "</table>\n",
       "</div>"
      ],
      "text/plain": [
       "      customer_reference_id item_purchased  purchase_amount_(usd)  \\\n",
       "1192                   4003       Slippers             245.304348   \n",
       "483                    3973         Gloves             189.000000   \n",
       "981                    4108         Kimono              31.000000   \n",
       "1926                   4118       Sneakers             173.000000   \n",
       "1913                   4071          Pants              43.000000   \n",
       "791                    4115       Raincoat             199.000000   \n",
       "1610                   4038       Backpack             103.000000   \n",
       "991                    4075          Socks             100.000000   \n",
       "1149                   4034       Jumpsuit             114.217391   \n",
       "2548                   4107  Flannel Shirt             102.377358   \n",
       "\n",
       "     date_purchase  review_rating payment_method  log_purchase_amount  month  \\\n",
       "1192    2023-01-01            4.7           Cash             5.506568      1   \n",
       "483     2022-10-30            2.5    Credit Card             5.247024     10   \n",
       "981     2023-05-02            2.4           Cash             3.465736      5   \n",
       "1926    2023-09-14            2.0    Credit Card             5.159055      9   \n",
       "1913    2022-10-05            3.1    Credit Card             3.784190     10   \n",
       "791     2023-04-20            2.2    Credit Card             5.298317      4   \n",
       "1610    2023-07-20            1.0           Cash             4.644391      7   \n",
       "991     2023-09-04            4.4    Credit Card             4.615121      9   \n",
       "1149    2023-01-29            3.5    Credit Card             4.746821      1   \n",
       "2548    2023-04-09            2.6    Credit Card             4.638386      4   \n",
       "\n",
       "      weekday  is_q4  \n",
       "1192        6  False  \n",
       "483         6   True  \n",
       "981         1  False  \n",
       "1926        3  False  \n",
       "1913        2   True  \n",
       "791         3  False  \n",
       "1610        3  False  \n",
       "991         0  False  \n",
       "1149        6  False  \n",
       "2548        6  False  "
      ]
     },
     "execution_count": 47,
     "metadata": {},
     "output_type": "execute_result"
    }
   ],
   "source": [
    "# Convert 'date_purchase' to datetime (if not already done)\n",
    "df['date_purchase'] = pd.to_datetime(df['date_purchase'])\n",
    "\n",
    "# Extract features from the purchase date\n",
    "df['month'] = df['date_purchase'].dt.month\n",
    "df['weekday'] = df['date_purchase'].dt.weekday\n",
    "df['is_q4'] = df['date_purchase'].dt.quarter == 4\n",
    "\n",
    "# Display a sample of extracted time-based features\n",
    "df.sample(10)"
   ]
  },
  {
   "cell_type": "markdown",
   "id": "4add509a",
   "metadata": {},
   "source": [
    "### Encode Categorical Variables: \n",
    "\n",
    "`Binary encode` *payment_method* and `label encode` *item_purchased*."
   ]
  },
  {
   "cell_type": "code",
   "execution_count": 56,
   "id": "7c672a1a",
   "metadata": {},
   "outputs": [],
   "source": [
    "# Binary Encoding for 'payment_method'\n",
    "df['payment_encoded'] = df['payment_method'].map({'Cash': 0, 'Credit Card': 1})\n",
    "\n",
    "# Label encode 'item_purchased'\n",
    "le = LabelEncoder()\n",
    "df['item_encoded'] = le.fit_transform(df['item_purchased'])\n",
    "\n",
    "# Save label mapping for reference\n",
    "label_mapping = dict(zip(le.classes_, le.transform(le.classes_)))\n",
    "mapping_df = pd.DataFrame(list(label_mapping.items()), columns=['item_purchased', 'item_encoded'])\n",
    "mapping_df.to_csv(\"../data/processed/item_encoding_mapping.csv\", index=False)"
   ]
  },
  {
   "cell_type": "markdown",
   "id": "a25ac904",
   "metadata": {},
   "source": [
    "### Identify High-Value Transactions"
   ]
  },
  {
   "cell_type": "code",
   "execution_count": 57,
   "id": "d94eb811",
   "metadata": {},
   "outputs": [
    {
     "name": "stdout",
     "output_type": "stream",
     "text": [
      "High-value transactions flagged.\n",
      "   purchase_amount_(usd)  high_value_transaction\n",
      "0                 4619.0                    True\n",
      "1                 2456.0                    True\n",
      "2                 2102.0                    True\n",
      "3                 3126.0                    True\n",
      "4                 3003.0                    True\n"
     ]
    }
   ],
   "source": [
    "# Define high-value transaction threshold (90th percentile)\n",
    "high_value_threshold = df['purchase_amount_(usd)'].quantile(0.9)\n",
    "df['high_value_transaction'] = df['purchase_amount_(usd)'] > high_value_threshold\n",
    "\n",
    "print(\"High-value transactions flagged.\")\n",
    "print(df[['purchase_amount_(usd)', 'high_value_transaction']].head())"
   ]
  },
  {
   "cell_type": "markdown",
   "id": "32615905",
   "metadata": {},
   "source": [
    "### Customer-Level Aggregations"
   ]
  },
  {
   "cell_type": "code",
   "execution_count": 58,
   "id": "cf415cf1",
   "metadata": {},
   "outputs": [
    {
     "name": "stdout",
     "output_type": "stream",
     "text": [
      "Aggregates added.\n"
     ]
    },
    {
     "data": {
      "application/vnd.microsoft.datawrangler.viewer.v0+json": {
       "columns": [
        {
         "name": "index",
         "rawType": "int64",
         "type": "integer"
        },
        {
         "name": "customer_reference_id",
         "rawType": "int64",
         "type": "integer"
        },
        {
         "name": "item_purchased",
         "rawType": "object",
         "type": "string"
        },
        {
         "name": "purchase_amount_(usd)",
         "rawType": "float64",
         "type": "float"
        },
        {
         "name": "date_purchase",
         "rawType": "datetime64[ns]",
         "type": "datetime"
        },
        {
         "name": "review_rating",
         "rawType": "float64",
         "type": "float"
        },
        {
         "name": "payment_method",
         "rawType": "object",
         "type": "string"
        },
        {
         "name": "log_purchase_amount",
         "rawType": "float64",
         "type": "float"
        },
        {
         "name": "month",
         "rawType": "int64",
         "type": "integer"
        },
        {
         "name": "weekday",
         "rawType": "int64",
         "type": "integer"
        },
        {
         "name": "is_q4",
         "rawType": "bool",
         "type": "boolean"
        },
        {
         "name": "payment_encoded",
         "rawType": "int64",
         "type": "integer"
        },
        {
         "name": "item_encoded",
         "rawType": "int32",
         "type": "integer"
        },
        {
         "name": "high_value_transaction",
         "rawType": "bool",
         "type": "boolean"
        },
        {
         "name": "avg_spend_x",
         "rawType": "float64",
         "type": "float"
        },
        {
         "name": "purchase_frequency_x",
         "rawType": "int64",
         "type": "integer"
        },
        {
         "name": "avg_spend_y",
         "rawType": "float64",
         "type": "float"
        },
        {
         "name": "purchase_frequency_y",
         "rawType": "int64",
         "type": "integer"
        }
       ],
       "conversionMethod": "pd.DataFrame",
       "ref": "7ed1de97-ad58-4b90-96e8-c7dae5e2836c",
       "rows": [
        [
         "0",
         "4018",
         "Handbag",
         "4619.0",
         "2023-02-05 00:00:00",
         "3.2",
         "Credit Card",
         "8.438149984075784",
         "2",
         "6",
         "False",
         "1",
         "13",
         "True",
         "323.25682835114173",
         "20",
         "323.25682835114173",
         "20"
        ],
        [
         "1",
         "4115",
         "Tunic",
         "2456.0",
         "2023-07-11 00:00:00",
         "2.0",
         "Credit Card",
         "7.806696372521179",
         "7",
         "1",
         "False",
         "1",
         "46",
         "True",
         "215.24085576259492",
         "23",
         "215.24085576259492",
         "23"
        ],
        [
         "2",
         "4019",
         "Tank Top",
         "2102.0",
         "2023-03-23 00:00:00",
         "4.1",
         "Cash",
         "7.6511201757027",
         "3",
         "3",
         "False",
         "0",
         "42",
         "True",
         "245.146567376856",
         "17",
         "245.146567376856",
         "17"
        ],
        [
         "3",
         "4097",
         "Leggings",
         "3126.0",
         "2023-03-15 00:00:00",
         "3.2",
         "Cash",
         "8.047829357457841",
         "3",
         "2",
         "False",
         "0",
         "20",
         "True",
         "396.4797582804215",
         "11",
         "396.4797582804215",
         "11"
        ],
        [
         "4",
         "3997",
         "Wallet",
         "3003.0",
         "2022-11-27 00:00:00",
         "4.7",
         "Cash",
         "8.007700012884026",
         "11",
         "6",
         "True",
         "0",
         "49",
         "True",
         "255.73467535681877",
         "17",
         "255.73467535681877",
         "17"
        ]
       ],
       "shape": {
        "columns": 17,
        "rows": 5
       }
      },
      "text/html": [
       "<div>\n",
       "<style scoped>\n",
       "    .dataframe tbody tr th:only-of-type {\n",
       "        vertical-align: middle;\n",
       "    }\n",
       "\n",
       "    .dataframe tbody tr th {\n",
       "        vertical-align: top;\n",
       "    }\n",
       "\n",
       "    .dataframe thead th {\n",
       "        text-align: right;\n",
       "    }\n",
       "</style>\n",
       "<table border=\"1\" class=\"dataframe\">\n",
       "  <thead>\n",
       "    <tr style=\"text-align: right;\">\n",
       "      <th></th>\n",
       "      <th>customer_reference_id</th>\n",
       "      <th>item_purchased</th>\n",
       "      <th>purchase_amount_(usd)</th>\n",
       "      <th>date_purchase</th>\n",
       "      <th>review_rating</th>\n",
       "      <th>payment_method</th>\n",
       "      <th>log_purchase_amount</th>\n",
       "      <th>month</th>\n",
       "      <th>weekday</th>\n",
       "      <th>is_q4</th>\n",
       "      <th>payment_encoded</th>\n",
       "      <th>item_encoded</th>\n",
       "      <th>high_value_transaction</th>\n",
       "      <th>avg_spend_x</th>\n",
       "      <th>purchase_frequency_x</th>\n",
       "      <th>avg_spend_y</th>\n",
       "      <th>purchase_frequency_y</th>\n",
       "    </tr>\n",
       "  </thead>\n",
       "  <tbody>\n",
       "    <tr>\n",
       "      <th>0</th>\n",
       "      <td>4018</td>\n",
       "      <td>Handbag</td>\n",
       "      <td>4619.0</td>\n",
       "      <td>2023-02-05</td>\n",
       "      <td>3.2</td>\n",
       "      <td>Credit Card</td>\n",
       "      <td>8.438150</td>\n",
       "      <td>2</td>\n",
       "      <td>6</td>\n",
       "      <td>False</td>\n",
       "      <td>1</td>\n",
       "      <td>13</td>\n",
       "      <td>True</td>\n",
       "      <td>323.256828</td>\n",
       "      <td>20</td>\n",
       "      <td>323.256828</td>\n",
       "      <td>20</td>\n",
       "    </tr>\n",
       "    <tr>\n",
       "      <th>1</th>\n",
       "      <td>4115</td>\n",
       "      <td>Tunic</td>\n",
       "      <td>2456.0</td>\n",
       "      <td>2023-07-11</td>\n",
       "      <td>2.0</td>\n",
       "      <td>Credit Card</td>\n",
       "      <td>7.806696</td>\n",
       "      <td>7</td>\n",
       "      <td>1</td>\n",
       "      <td>False</td>\n",
       "      <td>1</td>\n",
       "      <td>46</td>\n",
       "      <td>True</td>\n",
       "      <td>215.240856</td>\n",
       "      <td>23</td>\n",
       "      <td>215.240856</td>\n",
       "      <td>23</td>\n",
       "    </tr>\n",
       "    <tr>\n",
       "      <th>2</th>\n",
       "      <td>4019</td>\n",
       "      <td>Tank Top</td>\n",
       "      <td>2102.0</td>\n",
       "      <td>2023-03-23</td>\n",
       "      <td>4.1</td>\n",
       "      <td>Cash</td>\n",
       "      <td>7.651120</td>\n",
       "      <td>3</td>\n",
       "      <td>3</td>\n",
       "      <td>False</td>\n",
       "      <td>0</td>\n",
       "      <td>42</td>\n",
       "      <td>True</td>\n",
       "      <td>245.146567</td>\n",
       "      <td>17</td>\n",
       "      <td>245.146567</td>\n",
       "      <td>17</td>\n",
       "    </tr>\n",
       "    <tr>\n",
       "      <th>3</th>\n",
       "      <td>4097</td>\n",
       "      <td>Leggings</td>\n",
       "      <td>3126.0</td>\n",
       "      <td>2023-03-15</td>\n",
       "      <td>3.2</td>\n",
       "      <td>Cash</td>\n",
       "      <td>8.047829</td>\n",
       "      <td>3</td>\n",
       "      <td>2</td>\n",
       "      <td>False</td>\n",
       "      <td>0</td>\n",
       "      <td>20</td>\n",
       "      <td>True</td>\n",
       "      <td>396.479758</td>\n",
       "      <td>11</td>\n",
       "      <td>396.479758</td>\n",
       "      <td>11</td>\n",
       "    </tr>\n",
       "    <tr>\n",
       "      <th>4</th>\n",
       "      <td>3997</td>\n",
       "      <td>Wallet</td>\n",
       "      <td>3003.0</td>\n",
       "      <td>2022-11-27</td>\n",
       "      <td>4.7</td>\n",
       "      <td>Cash</td>\n",
       "      <td>8.007700</td>\n",
       "      <td>11</td>\n",
       "      <td>6</td>\n",
       "      <td>True</td>\n",
       "      <td>0</td>\n",
       "      <td>49</td>\n",
       "      <td>True</td>\n",
       "      <td>255.734675</td>\n",
       "      <td>17</td>\n",
       "      <td>255.734675</td>\n",
       "      <td>17</td>\n",
       "    </tr>\n",
       "  </tbody>\n",
       "</table>\n",
       "</div>"
      ],
      "text/plain": [
       "   customer_reference_id item_purchased  purchase_amount_(usd) date_purchase  \\\n",
       "0                   4018        Handbag                 4619.0    2023-02-05   \n",
       "1                   4115          Tunic                 2456.0    2023-07-11   \n",
       "2                   4019       Tank Top                 2102.0    2023-03-23   \n",
       "3                   4097       Leggings                 3126.0    2023-03-15   \n",
       "4                   3997         Wallet                 3003.0    2022-11-27   \n",
       "\n",
       "   review_rating payment_method  log_purchase_amount  month  weekday  is_q4  \\\n",
       "0            3.2    Credit Card             8.438150      2        6  False   \n",
       "1            2.0    Credit Card             7.806696      7        1  False   \n",
       "2            4.1           Cash             7.651120      3        3  False   \n",
       "3            3.2           Cash             8.047829      3        2  False   \n",
       "4            4.7           Cash             8.007700     11        6   True   \n",
       "\n",
       "   payment_encoded  item_encoded  high_value_transaction  avg_spend_x  \\\n",
       "0                1            13                    True   323.256828   \n",
       "1                1            46                    True   215.240856   \n",
       "2                0            42                    True   245.146567   \n",
       "3                0            20                    True   396.479758   \n",
       "4                0            49                    True   255.734675   \n",
       "\n",
       "   purchase_frequency_x  avg_spend_y  purchase_frequency_y  \n",
       "0                    20   323.256828                    20  \n",
       "1                    23   215.240856                    23  \n",
       "2                    17   245.146567                    17  \n",
       "3                    11   396.479758                    11  \n",
       "4                    17   255.734675                    17  "
      ]
     },
     "execution_count": 58,
     "metadata": {},
     "output_type": "execute_result"
    }
   ],
   "source": [
    "# Average spend per customer\n",
    "df_customer_spend = df.groupby('customer_reference_id')['purchase_amount_(usd)'].mean().reset_index()\n",
    "df_customer_spend.rename(columns={'purchase_amount_(usd)': 'avg_spend'}, inplace=True)\n",
    "\n",
    "# Frequency of purchases per customer\n",
    "df_customer_frequency = df.groupby('customer_reference_id')['item_purchased'].count().reset_index()\n",
    "df_customer_frequency.rename(columns={'item_purchased': 'purchase_frequency'}, inplace=True)\n",
    "\n",
    "# Merge aggregates back to the main dataframe (optional)\n",
    "df = df.merge(df_customer_spend, on='customer_reference_id', how='left')\n",
    "df = df.merge(df_customer_frequency, on='customer_reference_id', how='left')\n",
    "\n",
    "print(\"Aggregates added.\")\n",
    "df.head()"
   ]
  },
  {
   "cell_type": "markdown",
   "id": "1cb3c229",
   "metadata": {},
   "source": [
    "### Customer Summary for Modeling"
   ]
  },
  {
   "cell_type": "code",
   "execution_count": 59,
   "id": "3fb8c2ab",
   "metadata": {},
   "outputs": [],
   "source": [
    "# Aggregate per customer (for segmentation or LTV modeling later)\n",
    "customer_agg = df.groupby('customer_reference_id').agg(\n",
    "    total_purchases=('purchase_amount_(usd)', 'sum'),\n",
    "    avg_purchase_value=('purchase_amount_(usd)', 'mean'),\n",
    "    num_transactions=('purchase_amount_(usd)', 'count'),\n",
    "    last_purchase=('date_purchase', 'max'),\n",
    ")\n",
    "\n",
    "# Recency calculation (if needed later)\n",
    "reference_date = df['date_purchase'].max()\n",
    "customer_agg['recency_days'] = (reference_date - customer_agg['last_purchase']).dt.days\n",
    "\n",
    "customer_agg.reset_index(inplace=True)"
   ]
  },
  {
   "cell_type": "markdown",
   "id": "f0ae8030",
   "metadata": {},
   "source": [
    "### Save Feature-Engineered Datasets"
   ]
  },
  {
   "cell_type": "code",
   "execution_count": 60,
   "id": "268d3a38",
   "metadata": {},
   "outputs": [
    {
     "name": "stdout",
     "output_type": "stream",
     "text": [
      "Feature engineering completed. Data saved to parquet files.\n"
     ]
    }
   ],
   "source": [
    "# Save full transactional data\n",
    "df.to_parquet(\"../data/processed/retail_feature_engineered.parquet\", index=False)\n",
    "\n",
    "# Save customer aggregates separately\n",
    "customer_agg.to_parquet(\"../data/processed/customer_features.parquet\", index=False)\n",
    "print(\"Feature engineering completed. Data saved to parquet files.\")"
   ]
  },
  {
   "cell_type": "markdown",
   "id": "f116a586",
   "metadata": {},
   "source": []
  },
  {
   "cell_type": "markdown",
   "id": "3625b54c",
   "metadata": {},
   "source": [
    "## Next Steps\n",
    "\n",
    "The feature-engineered dataset is now ready for modeling. In the next notebook (`03_modeling.ipynb`), we will:\n",
    "\n",
    "- Train models to predict purchase amount at transaction level.\n",
    "- Build customer-level models to identify high-value customers.\n",
    "- Evaluate and compare models to choose the best performing ones."
   ]
  }
 ],
 "metadata": {
  "kernelspec": {
   "display_name": "learn-env",
   "language": "python",
   "name": "python3"
  },
  "language_info": {
   "codemirror_mode": {
    "name": "ipython",
    "version": 3
   },
   "file_extension": ".py",
   "mimetype": "text/x-python",
   "name": "python",
   "nbconvert_exporter": "python",
   "pygments_lexer": "ipython3",
   "version": "3.8.5"
  }
 },
 "nbformat": 4,
 "nbformat_minor": 5
}
